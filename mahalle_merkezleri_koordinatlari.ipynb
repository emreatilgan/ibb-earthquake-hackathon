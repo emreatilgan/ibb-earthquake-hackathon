{
 "cells": [
  {
   "cell_type": "code",
   "execution_count": null,
   "metadata": {},
   "outputs": [],
   "source": [
    "# Libraries & Settings\n",
    "import pandas as pd\n",
    "import numpy as np\n",
    "import matplotlib.pyplot as plt\n",
    "import seaborn as sns\n",
    "import cv2 \n",
    "import sys\n",
    "import requests as r\n",
    "import os\n",
    "\n",
    "here_maps_api_key = '###'"
   ]
  },
  {
   "cell_type": "code",
   "execution_count": null,
   "metadata": {},
   "outputs": [],
   "source": [
    "translation_table = str.maketrans(\"çığşüöÇİĞŞÜÖ\", \"cigsuoCIGSUO\")"
   ]
  },
  {
   "cell_type": "markdown",
   "metadata": {},
   "source": [
    "### Toplanma Alanları"
   ]
  },
  {
   "cell_type": "code",
   "execution_count": null,
   "metadata": {},
   "outputs": [],
   "source": [
    "toplanma = pd.read_csv('Datasets/Toplanma_Alanları/ToplanmaAlanlari.csv',\n",
    "                       header=0,\n",
    "                       names=['id', 'kapasite', 'ilce_uavt',\n",
    "                              'fonksiyon', 'shape_len', 'shape_area',\n",
    "                              'lat', 'lon', 'ilce'])\n",
    "\n",
    "toplanma['ilce'] = toplanma['ilce'].apply(lambda x: x.translate(translation_table).lower())"
   ]
  },
  {
   "cell_type": "markdown",
   "metadata": {},
   "source": [
    "### Mahalle Merkezleri Yoğunlukları"
   ]
  },
  {
   "cell_type": "code",
   "execution_count": null,
   "metadata": {},
   "outputs": [],
   "source": [
    "density = pd.read_csv('Datasets/Periodic_Yoğunluk/population_density_time_period.csv',\n",
    "                      header=0,\n",
    "                      names=['date', 'time_interval', 'mahalle', 'ilce', 'nufus'])\n",
    "\n",
    "density.dropna(inplace=True)"
   ]
  },
  {
   "cell_type": "code",
   "execution_count": null,
   "metadata": {},
   "outputs": [],
   "source": [
    "density['mahalle'] = density['mahalle'].apply(lambda x: x.translate(translation_table).lower())\n",
    "density['ilce'] = density['ilce'].apply(lambda x: x.translate(translation_table).lower())\n",
    "density['ilce'] = density['ilce'].apply(lambda x: x.replace('eyup', 'eyupsultan'))\n",
    "density = density[density['ilce'].isin(toplanma['ilce'].to_list())]"
   ]
  },
  {
   "cell_type": "markdown",
   "metadata": {},
   "source": [
    "### Mahalle Merkezleri Koordinatları"
   ]
  },
  {
   "cell_type": "code",
   "execution_count": null,
   "metadata": {},
   "outputs": [],
   "source": [
    "def get_coordinates(adres):\n",
    "    import requests as r\n",
    "    \n",
    "    base_url = 'https://geocode.search.hereapi.com/v1/geocode'\n",
    "    \n",
    "    params = {\n",
    "        'apiKey': here_maps_api_key,\n",
    "        'q': adres\n",
    "    }\n",
    "    \n",
    "    response = r.session().get(base_url, params=params).json()\n",
    "    \n",
    "    lat = response['items'][0]['position']['lat']\n",
    "    lon = response['items'][0]['position']['lng']\n",
    "    \n",
    "    return lat, lon\n",
    "    "
   ]
  },
  {
   "cell_type": "code",
   "execution_count": null,
   "metadata": {},
   "outputs": [],
   "source": [
    "density['adres'] = density['mahalle'] + str('+') + density['ilce']"
   ]
  },
  {
   "cell_type": "code",
   "execution_count": null,
   "metadata": {},
   "outputs": [],
   "source": [
    "unique_adres = pd.DataFrame(density['adres'].unique(), columns=['adres'])"
   ]
  },
  {
   "cell_type": "code",
   "execution_count": null,
   "metadata": {
    "scrolled": true
   },
   "outputs": [],
   "source": [
    "unique_adres_list_coords = []\n",
    "for index, row in unique_adres[415:].iterrows():\n",
    "    print(index, 'done')\n",
    "    try:\n",
    "        lat, lon = get_coordinates(row.adres)\n",
    "        unique_adres_list_coords.append([row.adres, lat, lon])\n",
    "    except Exception as e:\n",
    "        print(e)\n",
    "        continue"
   ]
  },
  {
   "cell_type": "code",
   "execution_count": null,
   "metadata": {},
   "outputs": [],
   "source": [
    "unique_adres_lat_lon = pd.DataFrame(unique_adres_list_coords,columns=['adres', 'lat', 'lon'])"
   ]
  },
  {
   "cell_type": "code",
   "execution_count": null,
   "metadata": {},
   "outputs": [],
   "source": [
    "unique_adres_lat_lon_2 = pd.DataFrame(unique_adres_list_coords,columns=['adres', 'lat', 'lon'])"
   ]
  },
  {
   "cell_type": "code",
   "execution_count": null,
   "metadata": {},
   "outputs": [],
   "source": [
    "add = pd.DataFrame([['inonu+bagcilar', 41.030168, 28.851756], \n",
    "                    ['orta+pendik', 40.890313, 29.242589]], columns=['adres', 'lat', 'lon'])"
   ]
  },
  {
   "cell_type": "code",
   "execution_count": null,
   "metadata": {},
   "outputs": [],
   "source": [
    "unique_adres_lat_lon.loc[unique_adres_lat_lon['adres'] == 'merkez+beylikduzu', 'lat'] = 40.986465\n",
    "unique_adres_lat_lon.loc[unique_adres_lat_lon['adres'] == 'merkez+beylikduzu', 'lon'] = 28.643884"
   ]
  },
  {
   "cell_type": "code",
   "execution_count": null,
   "metadata": {},
   "outputs": [],
   "source": [
    "unique_adres_lat_lon.loc[unique_adres_lat_lon['adres'] == 'kazim karabekir+sultangazi', 'lat'] = 41.100734\n",
    "unique_adres_lat_lon.loc[unique_adres_lat_lon['adres'] == 'kazim karabekir+sultangazi', 'lon'] = 28.912222"
   ]
  },
  {
   "cell_type": "code",
   "execution_count": null,
   "metadata": {},
   "outputs": [],
   "source": [
    "unique_adres_lat_lon_2.loc[unique_adres_lat_lon_2['adres'] == 'ataturk+esenyurt', 'lat'] = 41.028068\n",
    "unique_adres_lat_lon_2.loc[unique_adres_lat_lon_2['adres'] == 'ataturk+esenyurt', 'lon'] = 28.639226"
   ]
  },
  {
   "cell_type": "code",
   "execution_count": null,
   "metadata": {},
   "outputs": [],
   "source": [
    "unique_adres_lat_lon_2.loc[unique_adres_lat_lon_2['adres'] == 'inonu+sisli', 'lat'] = 41.043558\n",
    "unique_adres_lat_lon_2.loc[unique_adres_lat_lon_2['adres'] == 'inonu+sisli', 'lon'] = 28.984346"
   ]
  },
  {
   "cell_type": "code",
   "execution_count": null,
   "metadata": {},
   "outputs": [],
   "source": [
    "unique_adres_lat_lon_2.loc[unique_adres_lat_lon_2['adres'] == 'rustempasa+fatih', 'lat'] = 41.017253 \n",
    "unique_adres_lat_lon_2.loc[unique_adres_lat_lon_2['adres'] == 'rustempasa+fatih', 'lon'] = 28.970757"
   ]
  },
  {
   "cell_type": "code",
   "execution_count": null,
   "metadata": {},
   "outputs": [],
   "source": [
    "final_df = unique_adres_lat_lon.append(unique_adres_lat_lon_2, ignore_index=True).append(add, ignore_index=True)"
   ]
  },
  {
   "cell_type": "code",
   "execution_count": null,
   "metadata": {},
   "outputs": [],
   "source": [
    "final_df.to_csv('mahalle_merkezleri_coords.csv', index=False, header=True)"
   ]
  }
 ],
 "metadata": {
  "kernelspec": {
   "display_name": "Python [conda env:deprem] *",
   "language": "python",
   "name": "conda-env-deprem-py"
  },
  "language_info": {
   "codemirror_mode": {
    "name": "ipython",
    "version": 3
   },
   "file_extension": ".py",
   "mimetype": "text/x-python",
   "name": "python",
   "nbconvert_exporter": "python",
   "pygments_lexer": "ipython3",
   "version": "3.7.7"
  }
 },
 "nbformat": 4,
 "nbformat_minor": 4
}
